{
 "cells": [
  {
   "cell_type": "code",
   "execution_count": 1,
   "metadata": {
    "ExecuteTime": {
     "end_time": "2019-07-04T12:42:43.625955Z",
     "start_time": "2019-07-04T12:42:42.524090Z"
    }
   },
   "outputs": [
    {
     "name": "stdout",
     "output_type": "stream",
     "text": [
      "Found 10 games.\n"
     ]
    }
   ],
   "source": [
    "from glob import glob\n",
    "from os.path import join as pjoin\n",
    "\n",
    "import gym\n",
    "import textworld.gym\n",
    "from textworld import EnvInfos\n",
    "\n",
    "GAMES_PATH = \"sample_games\"  # This assumes `sample_games.zip` was first unzipped.\n",
    "gamefiles = glob(pjoin(GAMES_PATH, \"*.ulx\"))\n",
    "print(\"Found {} games.\".format(len(gamefiles)))"
   ]
  },
  {
   "cell_type": "markdown",
   "metadata": {},
   "source": [
    "## Playing a game "
   ]
  },
  {
   "cell_type": "code",
   "execution_count": null,
   "metadata": {
    "ExecuteTime": {
     "start_time": "2019-07-04T12:42:42.533Z"
    },
    "scrolled": false
   },
   "outputs": [
    {
     "name": "stderr",
     "output_type": "stream",
     "text": [
      "/home/nbabulkov/Code/TextWorld/venv/lib/python3.7/site-packages/gym/envs/registration.py:14: PkgResourcesDeprecationWarning: Parameters to load are deprecated.  Call .resolve and .require separately.\n",
      "  result = entry_point.load(False)\n"
     ]
    },
    {
     "name": "stdout",
     "output_type": "stream",
     "text": [
      "Walkthrough: open fridge. take yellow bell pepper from fridge. take yellow potato from counter. take knife from table. slice yellow bell pepper with knife. drop knife. take knife. dice yellow potato with knife. drop knife. prepare meal. eat meal\n",
      "\n",
      "Recipe #1\n",
      "---------\n",
      "Gather all following ingredients and follow the directions to prepare this tasty meal.\n",
      "\n",
      "Ingredients:\n",
      "  yellow bell pepper\n",
      "  yellow potato\n",
      "\n",
      "Directions:\n",
      "  slice the yellow bell pepper\n",
      "  fry the yellow bell pepper\n",
      "  dice the yellow potato\n",
      "  fry the yellow potato\n",
      "  prepare meal\n",
      "\n",
      "\n",
      "\n",
      "\n",
      "                    ________  ________  __    __  ________\n",
      "                   |        \\|        \\|  \\  |  \\|        \\\n",
      "                    \\$$$$$$$$| $$$$$$$$| $$  | $$ \\$$$$$$$$\n",
      "                      | $$   | $$__     \\$$\\/  $$   | $$\n",
      "                      | $$   | $$  \\     >$$  $$    | $$\n",
      "                      | $$   | $$$$$    /  $$$$\\    | $$\n",
      "                      | $$   | $$_____ |  $$ \\$$\\   | $$\n",
      "                      | $$   | $$     \\| $$  | $$   | $$\n",
      "                       \\$$    \\$$$$$$$$ \\$$   \\$$    \\$$\n",
      "              __       __   ______   _______   __        _______\n",
      "             |  \\  _  |  \\ /      \\ |       \\ |  \\      |       \\\n",
      "             | $$ / \\ | $$|  $$$$$$\\| $$$$$$$\\| $$      | $$$$$$$\\\n",
      "             | $$/  $\\| $$| $$  | $$| $$__| $$| $$      | $$  | $$\n",
      "             | $$  $$$\\ $$| $$  | $$| $$    $$| $$      | $$  | $$\n",
      "             | $$ $$\\$$\\$$| $$  | $$| $$$$$$$\\| $$      | $$  | $$\n",
      "             | $$$$  \\$$$$| $$__/ $$| $$  | $$| $$_____ | $$__/ $$\n",
      "             | $$$    \\$$$ \\$$    $$| $$  | $$| $$     \\| $$    $$\n",
      "              \\$$      \\$$  \\$$$$$$  \\$$   \\$$ \\$$$$$$$$ \\$$$$$$$\n",
      "\n",
      "You are hungry! Let's cook a delicious meal. Check the cookbook in the kitchen\n",
      "for the recipe. Once done, enjoy your meal!\n",
      "\n",
      "-= Kitchen =-\n",
      "Look at you, bigshot, walking into a kitchen like it isn't some huge deal.\n",
      "\n",
      "You make out a fridge. I mean, just wow! Isn't TextWorld just the best? You see\n",
      "a closed oven. You can make out a table. On the table you can make out a knife.\n",
      "You can make out a counter. I guess it's true what they say, if you're looking\n",
      "for a counter, go to TextWorld. The counter is vast. On the counter you can see\n",
      "a fried yellow potato, a raw red potato, a raw purple potato, a red hot pepper\n",
      "and a cookbook. I mean, just wow! Isn't TextWorld just the best? You see a\n",
      "stove. Why don't you take a picture of it, it'll last longer! Unfortunately,\n",
      "there isn't a thing on it. It would have been so cool if there was stuff on the\n",
      "stove.\n",
      "\n",
      "> pick cookbook\n",
      "\u001b[33m> pick cookbook\u001b[0m\n",
      "I didn't understand that sentence.\n",
      "\n",
      "> inventory\n",
      "\u001b[33m> inventory\u001b[0m\n",
      "You are carrying nothing.\n",
      "\n",
      "> take cookbook\n",
      "\u001b[33m> take cookbook\u001b[0m\n",
      "You take the cookbook from the counter.\n",
      "\n",
      "> take fried yellow potato\n",
      "\u001b[33m> take fried yellow potato\u001b[0m\n",
      "You take the yellow potato from the counter.\n",
      "\n",
      "\n",
      "\n",
      "Your score has just gone up by one point.\n",
      "\n",
      "> take knife\n",
      "\u001b[33m> take knife\u001b[0m\n",
      "You take the knife from the table.\n",
      "\n",
      "> inventory\n",
      "\u001b[33m> inventory\u001b[0m\n",
      "You are carrying:\n",
      "  a knife\n",
      "  a fried yellow potato\n",
      "  a cookbook\n",
      "\n",
      "> Help\n",
      "\u001b[33m> Help\u001b[0m\n",
      "Available commands:\n",
      "  look:                describe the current room\n",
      "  goal:                print the goal of this game\n",
      "  inventory:           print player's inventory\n",
      "  go <dir>:            move the player north, east, south or west\n",
      "  examine ...:         examine something more closely\n",
      "  eat ...:             eat edible food\n",
      "  open ...:            open a door or a container\n",
      "  close ...:           close a door or a container\n",
      "  drop ...:            drop an object on the floor\n",
      "  take ...:            take an object that is on the floor\n",
      "  put ... on ...:      place an object on a supporter\n",
      "  take ... from ...:   take an object from a container or a supporter\n",
      "  insert ... into ...: place an object into a container\n",
      "  lock ... with ...:   lock a door or a container with a key\n",
      "  unlock ... with ...: unlock a door or a container with a key\n",
      "  cook ... with ...:   cook cookable food with something providing heat\n",
      "  slice ... with ...:  slice cuttable food with something sharp\n",
      "  chop ... with ...:   chop cuttable food with something sharp\n",
      "  dice ... with ...:   dice cuttable food with something sharp\n",
      "  prepare meal:        combine ingredients from inventory into a meal\n",
      "\n"
     ]
    }
   ],
   "source": [
    "gamefile = gamefiles[0]  # Pick a game.\n",
    "\n",
    "requested_infos = EnvInfos(description=True, inventory=True, extras=[\"recipe\", \"walkthrough\"])\n",
    "env_id = textworld.gym.register_games([gamefile], requested_infos)\n",
    "\n",
    "agent = textworld.agents.HumanAgent()\n",
    "\n",
    "env = gym.make(env_id)\n",
    "obs, infos = env.reset()\n",
    "\n",
    "# Since we asked for more infos, let's print them.\n",
    "print(\"Walkthrough:\", \". \".join(infos[\"extra.walkthrough\"]))\n",
    "print(infos[\"extra.recipe\"])\n",
    "\n",
    "env.render()  # Print the initial observation.\n",
    "\n",
    "score = 0\n",
    "done = False\n",
    "while not done:\n",
    "    command = input('> ')\n",
    "    ob, score, done, infos = env.step(command)\n",
    "    env.render()\n",
    "    "
   ]
  },
  {
   "cell_type": "markdown",
   "metadata": {},
   "source": [
    "## Visualizing a `TextWorld.Game` object"
   ]
  },
  {
   "cell_type": "code",
   "execution_count": null,
   "metadata": {
    "ExecuteTime": {
     "start_time": "2019-07-04T12:42:42.539Z"
    }
   },
   "outputs": [],
   "source": [
    "import textworld\n",
    "gamefile = gamefiles[0]  # Pick a game.\n",
    "game = textworld.Game.load(gamefile.replace(\".ulx\", \".json\"))\n",
    "textworld.render.visualize(game)"
   ]
  }
 ],
 "metadata": {
  "kernelspec": {
   "display_name": "reinforcement",
   "language": "python",
   "name": "reinforcement"
  },
  "language_info": {
   "codemirror_mode": {
    "name": "ipython",
    "version": 3
   },
   "file_extension": ".py",
   "mimetype": "text/x-python",
   "name": "python",
   "nbconvert_exporter": "python",
   "pygments_lexer": "ipython3",
   "version": "3.7.3"
  },
  "varInspector": {
   "cols": {
    "lenName": 16,
    "lenType": 16,
    "lenVar": 40
   },
   "kernels_config": {
    "python": {
     "delete_cmd_postfix": "",
     "delete_cmd_prefix": "del ",
     "library": "var_list.py",
     "varRefreshCmd": "print(var_dic_list())"
    },
    "r": {
     "delete_cmd_postfix": ") ",
     "delete_cmd_prefix": "rm(",
     "library": "var_list.r",
     "varRefreshCmd": "cat(var_dic_list()) "
    }
   },
   "types_to_exclude": [
    "module",
    "function",
    "builtin_function_or_method",
    "instance",
    "_Feature"
   ],
   "window_display": false
  }
 },
 "nbformat": 4,
 "nbformat_minor": 2
}
